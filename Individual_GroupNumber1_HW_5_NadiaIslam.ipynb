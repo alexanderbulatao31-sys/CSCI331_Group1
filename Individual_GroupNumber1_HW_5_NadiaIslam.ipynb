{
  "nbformat": 4,
  "nbformat_minor": 0,
  "metadata": {
    "colab": {
      "provenance": []
    },
    "kernelspec": {
      "name": "python3",
      "display_name": "Python 3"
    },
    "language_info": {
      "name": "python"
    }
  },
  "cells": [
    {
      "cell_type": "code",
      "execution_count": null,
      "metadata": {
        "id": "LDmUxsXI7oky"
      },
      "outputs": [],
      "source": [
        "-- 1. Combine all distinct city names from vendors and stores\n",
        "SELECT City FROM Purchasing.vVendorWithAddresses\n",
        "UNION\n",
        "SELECT City FROM Sales.vStoreWithAddresses;\n",
        "\n",
        "-- 2. Include duplicates as well\n",
        "SELECT City FROM Purchasing.vVendorWithAddresses\n",
        "UNION ALL\n",
        "SELECT City FROM Sales.vStoreWithAddresses;\n",
        "\n",
        "-- 3. Cities that appear in both vendors and stores\n",
        "SELECT City FROM Purchasing.vVendorWithAddresses\n",
        "INTERSECT\n",
        "SELECT City FROM Sales.vStoreWithAddresses;\n",
        "\n",
        "-- 4. Cities that have vendors but no stores\n",
        "SELECT City FROM Purchasing.vVendorWithAddresses\n",
        "EXCEPT\n",
        "SELECT City FROM Sales.vStoreWithAddresses;\n",
        "\n",
        "-- 5. Products that exist in both purchase and sales order details\n",
        "SELECT ProductID FROM Purchasing.PurchaseOrderDetail\n",
        "INTERSECT\n",
        "SELECT ProductID FROM Sales.SalesOrderDetail;\n",
        "\n",
        "-- 6. Products purchased but never sold\n",
        "SELECT ProductID FROM Purchasing.PurchaseOrderDetail\n",
        "EXCEPT\n",
        "SELECT ProductID FROM Sales.SalesOrderDetail;\n",
        "\n",
        "-- 7. Combine vendor and store names, mark which group each came from\n",
        "SELECT 'Vendor' AS SourceType, Name, City\n",
        "FROM Purchasing.vVendorWithAddresses\n",
        "UNION ALL\n",
        "SELECT 'Store', Name, City\n",
        "FROM Sales.vStoreWithAddresses\n",
        "ORDER BY SourceType, Name;\n",
        "\n",
        "-- 8. CountryRegion codes that appear in both SalesTerritory and StateProvince\n",
        "SELECT CountryRegionCode FROM Sales.SalesTerritory\n",
        "INTERSECT\n",
        "SELECT CountryRegionCode FROM Person.StateProvince;\n",
        "\n",
        "-- 9. CountryRegion codes in StateProvince but not in SalesTerritory\n",
        "SELECT CountryRegionCode FROM Person.StateProvince\n",
        "EXCEPT\n",
        "SELECT CountryRegionCode FROM Sales.SalesTerritory;\n",
        "\n",
        "-- 10. Distinct postal codes across vendors and stores\n",
        "SELECT PostalCode FROM Purchasing.vVendorWithAddresses\n",
        "UNION\n",
        "SELECT PostalCode FROM Sales.vStoreWithAddresses;\n",
        "\n"
      ]
    }
  ]
}